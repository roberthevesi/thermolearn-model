{
 "cells": [
  {
   "cell_type": "code",
   "execution_count": 12,
   "metadata": {},
   "outputs": [],
   "source": [
    "import pandas as pd\n",
    "from sklearn.model_selection import train_test_split\n",
    "from sklearn.ensemble import RandomForestClassifier\n",
    "from sklearn.preprocessing import OneHotEncoder\n",
    "from sklearn.metrics import accuracy_score\n",
    "import numpy as np\n",
    "from datetime import datetime, timedelta\n",
    "from sklearn.metrics import classification_report\n",
    "import matplotlib.pyplot as plt\n",
    "import pickle"
   ]
  },
  {
   "cell_type": "code",
   "execution_count": 3,
   "metadata": {},
   "outputs": [
    {
     "data": {
      "text/html": [
       "<div>\n",
       "<style scoped>\n",
       "    .dataframe tbody tr th:only-of-type {\n",
       "        vertical-align: middle;\n",
       "    }\n",
       "\n",
       "    .dataframe tbody tr th {\n",
       "        vertical-align: top;\n",
       "    }\n",
       "\n",
       "    .dataframe thead th {\n",
       "        text-align: right;\n",
       "    }\n",
       "</style>\n",
       "<table border=\"1\" class=\"dataframe\">\n",
       "  <thead>\n",
       "    <tr style=\"text-align: right;\">\n",
       "      <th></th>\n",
       "      <th>Event Type</th>\n",
       "      <th>Date</th>\n",
       "      <th>Time</th>\n",
       "      <th>Day of the Week</th>\n",
       "    </tr>\n",
       "  </thead>\n",
       "  <tbody>\n",
       "    <tr>\n",
       "      <th>0</th>\n",
       "      <td>OUT</td>\n",
       "      <td>2024-02-22</td>\n",
       "      <td>08:30</td>\n",
       "      <td>Thursday</td>\n",
       "    </tr>\n",
       "    <tr>\n",
       "      <th>1</th>\n",
       "      <td>IN</td>\n",
       "      <td>2024-02-22</td>\n",
       "      <td>16:48</td>\n",
       "      <td>Thursday</td>\n",
       "    </tr>\n",
       "    <tr>\n",
       "      <th>2</th>\n",
       "      <td>OUT</td>\n",
       "      <td>2024-02-22</td>\n",
       "      <td>18:05</td>\n",
       "      <td>Thursday</td>\n",
       "    </tr>\n",
       "    <tr>\n",
       "      <th>3</th>\n",
       "      <td>IN</td>\n",
       "      <td>2024-02-22</td>\n",
       "      <td>18:26</td>\n",
       "      <td>Thursday</td>\n",
       "    </tr>\n",
       "    <tr>\n",
       "      <th>4</th>\n",
       "      <td>OUT</td>\n",
       "      <td>2024-02-23</td>\n",
       "      <td>11:33</td>\n",
       "      <td>Friday</td>\n",
       "    </tr>\n",
       "    <tr>\n",
       "      <th>...</th>\n",
       "      <td>...</td>\n",
       "      <td>...</td>\n",
       "      <td>...</td>\n",
       "      <td>...</td>\n",
       "    </tr>\n",
       "    <tr>\n",
       "      <th>216</th>\n",
       "      <td>IN</td>\n",
       "      <td>2024-04-22</td>\n",
       "      <td>20:58</td>\n",
       "      <td>Monday</td>\n",
       "    </tr>\n",
       "    <tr>\n",
       "      <th>217</th>\n",
       "      <td>OUT</td>\n",
       "      <td>2024-04-23</td>\n",
       "      <td>11:35</td>\n",
       "      <td>Tuesday</td>\n",
       "    </tr>\n",
       "    <tr>\n",
       "      <th>218</th>\n",
       "      <td>IN</td>\n",
       "      <td>2024-04-23</td>\n",
       "      <td>14:12</td>\n",
       "      <td>Tuesday</td>\n",
       "    </tr>\n",
       "    <tr>\n",
       "      <th>219</th>\n",
       "      <td>OUT</td>\n",
       "      <td>2024-04-23</td>\n",
       "      <td>16:57</td>\n",
       "      <td>Tuesday</td>\n",
       "    </tr>\n",
       "    <tr>\n",
       "      <th>220</th>\n",
       "      <td>IN</td>\n",
       "      <td>2024-04-23</td>\n",
       "      <td>18:00</td>\n",
       "      <td>Tuesday</td>\n",
       "    </tr>\n",
       "  </tbody>\n",
       "</table>\n",
       "<p>221 rows × 4 columns</p>\n",
       "</div>"
      ],
      "text/plain": [
       "    Event Type        Date   Time Day of the Week\n",
       "0          OUT  2024-02-22  08:30        Thursday\n",
       "1           IN  2024-02-22  16:48        Thursday\n",
       "2          OUT  2024-02-22  18:05        Thursday\n",
       "3           IN  2024-02-22  18:26        Thursday\n",
       "4          OUT  2024-02-23  11:33          Friday\n",
       "..         ...         ...    ...             ...\n",
       "216         IN  2024-04-22  20:58          Monday\n",
       "217        OUT  2024-04-23  11:35         Tuesday\n",
       "218         IN  2024-04-23  14:12         Tuesday\n",
       "219        OUT  2024-04-23  16:57         Tuesday\n",
       "220         IN  2024-04-23  18:00         Tuesday\n",
       "\n",
       "[221 rows x 4 columns]"
      ]
     },
     "execution_count": 3,
     "metadata": {},
     "output_type": "execute_result"
    }
   ],
   "source": [
    "logs_df = pd.read_csv('logs.csv')\n",
    "\n",
    "logs_df['Timestamp'] = pd.to_datetime(logs_df['Timestamp'], format='%d %B %Y at %H:%M')\n",
    "\n",
    "logs_df['Date'] = logs_df['Timestamp'].dt.strftime('%Y-%m-%d')\n",
    "logs_df['Time'] = logs_df['Timestamp'].dt.strftime('%H:%M')\n",
    "logs_df['Day of the Week'] = logs_df['Timestamp'].dt.day_name()\n",
    "\n",
    "logs_df.drop('Timestamp', axis=1, inplace=True)\n",
    "logs_df.to_csv('processed_logs.csv', index=False)\n",
    "\n",
    "logs_df\n"
   ]
  },
  {
   "cell_type": "code",
   "execution_count": 4,
   "metadata": {},
   "outputs": [],
   "source": [
    "# Load data\n",
    "data = pd.read_csv('processed_logs.csv')\n",
    "\n",
    "def parse_datetime(row):\n",
    "    return datetime.strptime(f\"{row['Date']} {row['Time']}\", \"%Y-%m-%d %H:%M\")\n",
    "\n",
    "data['Datetime'] = data.apply(parse_datetime, axis=1)\n",
    "data.sort_values(by='Datetime', inplace=True)\n",
    "\n",
    "# Extract AWAY intervals \n",
    "def get_intervals(data):\n",
    "    away_intervals = []\n",
    "    temp_out = None\n",
    "    for _, row in data.iterrows():\n",
    "        if row['Event Type'] == 'OUT':\n",
    "            temp_out = row['Datetime']\n",
    "        elif row['Event Type'] == 'IN' and temp_out is not None:\n",
    "            away_intervals.append((temp_out, row['Datetime']))\n",
    "            temp_out = None\n",
    "    return away_intervals\n",
    "\n",
    "intervals = get_intervals(data)\n",
    "\n",
    "# Generate hourly samples and label them\n",
    "min_date = data['Datetime'].min().replace(hour=0, minute=0, second=0)\n",
    "max_date = data['Datetime'].max().replace(hour=23, minute=59, second=59)\n",
    "date_range = pd.date_range(start=min_date, end=max_date, freq='T') # T = minuTe\n",
    "samples = pd.DataFrame(date_range, columns=['Datetime'])\n",
    "\n",
    "# Determine if a given datetime is AWAY\n",
    "def is_away(dt, intervals):\n",
    "    for start, end in intervals:\n",
    "        if start <= dt <= end:\n",
    "            return 1 # AWAY\n",
    "    return 0 # HOME\n",
    "\n",
    "# label each sample as AWAY/HOME\n",
    "samples['Away'] = samples['Datetime'].apply(lambda dt: is_away(dt, intervals))\n",
    "samples['Hour'] = samples['Datetime'].dt.hour\n",
    "samples['Day_of_Week'] = samples['Datetime'].dt.dayofweek\n",
    "\n",
    "samples = pd.get_dummies(samples, columns=['Day_of_Week'])\n",
    "\n",
    "# Prepare features & labels \n",
    "X = samples.drop(['Away', 'Datetime'], axis=1)\n",
    "y = samples['Away']\n",
    "\n",
    "X_train, X_test, y_train, y_test = train_test_split(X, y, test_size=0.2, random_state=42)"
   ]
  },
  {
   "cell_type": "code",
   "execution_count": 5,
   "metadata": {},
   "outputs": [
    {
     "data": {
      "text/html": [
       "<style>#sk-container-id-1 {color: black;background-color: white;}#sk-container-id-1 pre{padding: 0;}#sk-container-id-1 div.sk-toggleable {background-color: white;}#sk-container-id-1 label.sk-toggleable__label {cursor: pointer;display: block;width: 100%;margin-bottom: 0;padding: 0.3em;box-sizing: border-box;text-align: center;}#sk-container-id-1 label.sk-toggleable__label-arrow:before {content: \"▸\";float: left;margin-right: 0.25em;color: #696969;}#sk-container-id-1 label.sk-toggleable__label-arrow:hover:before {color: black;}#sk-container-id-1 div.sk-estimator:hover label.sk-toggleable__label-arrow:before {color: black;}#sk-container-id-1 div.sk-toggleable__content {max-height: 0;max-width: 0;overflow: hidden;text-align: left;background-color: #f0f8ff;}#sk-container-id-1 div.sk-toggleable__content pre {margin: 0.2em;color: black;border-radius: 0.25em;background-color: #f0f8ff;}#sk-container-id-1 input.sk-toggleable__control:checked~div.sk-toggleable__content {max-height: 200px;max-width: 100%;overflow: auto;}#sk-container-id-1 input.sk-toggleable__control:checked~label.sk-toggleable__label-arrow:before {content: \"▾\";}#sk-container-id-1 div.sk-estimator input.sk-toggleable__control:checked~label.sk-toggleable__label {background-color: #d4ebff;}#sk-container-id-1 div.sk-label input.sk-toggleable__control:checked~label.sk-toggleable__label {background-color: #d4ebff;}#sk-container-id-1 input.sk-hidden--visually {border: 0;clip: rect(1px 1px 1px 1px);clip: rect(1px, 1px, 1px, 1px);height: 1px;margin: -1px;overflow: hidden;padding: 0;position: absolute;width: 1px;}#sk-container-id-1 div.sk-estimator {font-family: monospace;background-color: #f0f8ff;border: 1px dotted black;border-radius: 0.25em;box-sizing: border-box;margin-bottom: 0.5em;}#sk-container-id-1 div.sk-estimator:hover {background-color: #d4ebff;}#sk-container-id-1 div.sk-parallel-item::after {content: \"\";width: 100%;border-bottom: 1px solid gray;flex-grow: 1;}#sk-container-id-1 div.sk-label:hover label.sk-toggleable__label {background-color: #d4ebff;}#sk-container-id-1 div.sk-serial::before {content: \"\";position: absolute;border-left: 1px solid gray;box-sizing: border-box;top: 0;bottom: 0;left: 50%;z-index: 0;}#sk-container-id-1 div.sk-serial {display: flex;flex-direction: column;align-items: center;background-color: white;padding-right: 0.2em;padding-left: 0.2em;position: relative;}#sk-container-id-1 div.sk-item {position: relative;z-index: 1;}#sk-container-id-1 div.sk-parallel {display: flex;align-items: stretch;justify-content: center;background-color: white;position: relative;}#sk-container-id-1 div.sk-item::before, #sk-container-id-1 div.sk-parallel-item::before {content: \"\";position: absolute;border-left: 1px solid gray;box-sizing: border-box;top: 0;bottom: 0;left: 50%;z-index: -1;}#sk-container-id-1 div.sk-parallel-item {display: flex;flex-direction: column;z-index: 1;position: relative;background-color: white;}#sk-container-id-1 div.sk-parallel-item:first-child::after {align-self: flex-end;width: 50%;}#sk-container-id-1 div.sk-parallel-item:last-child::after {align-self: flex-start;width: 50%;}#sk-container-id-1 div.sk-parallel-item:only-child::after {width: 0;}#sk-container-id-1 div.sk-dashed-wrapped {border: 1px dashed gray;margin: 0 0.4em 0.5em 0.4em;box-sizing: border-box;padding-bottom: 0.4em;background-color: white;}#sk-container-id-1 div.sk-label label {font-family: monospace;font-weight: bold;display: inline-block;line-height: 1.2em;}#sk-container-id-1 div.sk-label-container {text-align: center;}#sk-container-id-1 div.sk-container {/* jupyter's `normalize.less` sets `[hidden] { display: none; }` but bootstrap.min.css set `[hidden] { display: none !important; }` so we also need the `!important` here to be able to override the default hidden behavior on the sphinx rendered scikit-learn.org. See: https://github.com/scikit-learn/scikit-learn/issues/21755 */display: inline-block !important;position: relative;}#sk-container-id-1 div.sk-text-repr-fallback {display: none;}</style><div id=\"sk-container-id-1\" class=\"sk-top-container\"><div class=\"sk-text-repr-fallback\"><pre>RandomForestClassifier(random_state=42)</pre><b>In a Jupyter environment, please rerun this cell to show the HTML representation or trust the notebook. <br />On GitHub, the HTML representation is unable to render, please try loading this page with nbviewer.org.</b></div><div class=\"sk-container\" hidden><div class=\"sk-item\"><div class=\"sk-estimator sk-toggleable\"><input class=\"sk-toggleable__control sk-hidden--visually\" id=\"sk-estimator-id-1\" type=\"checkbox\" checked><label for=\"sk-estimator-id-1\" class=\"sk-toggleable__label sk-toggleable__label-arrow\">RandomForestClassifier</label><div class=\"sk-toggleable__content\"><pre>RandomForestClassifier(random_state=42)</pre></div></div></div></div></div>"
      ],
      "text/plain": [
       "RandomForestClassifier(random_state=42)"
      ]
     },
     "execution_count": 5,
     "metadata": {},
     "output_type": "execute_result"
    }
   ],
   "source": [
    "# Train a RandomForest classifier\n",
    "model = RandomForestClassifier(n_estimators=100, random_state=42)\n",
    "model.fit(X_train, y_train)"
   ]
  },
  {
   "cell_type": "code",
   "execution_count": 11,
   "metadata": {},
   "outputs": [
    {
     "name": "stdout",
     "output_type": "stream",
     "text": [
      "Accuracy: 0.77\n",
      "              precision    recall  f1-score   support\n",
      "\n",
      "           0       0.80      0.91      0.85     13036\n",
      "           1       0.61      0.39      0.47      4820\n",
      "\n",
      "    accuracy                           0.77     17856\n",
      "   macro avg       0.71      0.65      0.66     17856\n",
      "weighted avg       0.75      0.77      0.75     17856\n",
      "\n"
     ]
    }
   ],
   "source": [
    "# Evaluate the model\n",
    "predictions = model.predict(X_test)\n",
    "accuracy = accuracy_score(y_test, predictions)\n",
    "print(f'Accuracy: {accuracy:.2f}')\n",
    "print(classification_report(y_test, predictions))"
   ]
  },
  {
   "cell_type": "code",
   "execution_count": 13,
   "metadata": {},
   "outputs": [
    {
     "name": "stdout",
     "output_type": "stream",
     "text": [
      "Model saved as user_activity_model.pkl\n"
     ]
    }
   ],
   "source": [
    "# Save the model\n",
    "with open('user_activity_model.pkl', 'wb') as f:\n",
    "    pickle.dump(model, f)\n",
    "print(\"Model saved as user_activity_model.pkl\")"
   ]
  },
  {
   "cell_type": "code",
   "execution_count": 14,
   "metadata": {},
   "outputs": [],
   "source": [
    "# Load the model\n",
    "with open('user_activity_model.pkl', 'rb') as f:\n",
    "    loaded_model = pickle.load(f)"
   ]
  },
  {
   "cell_type": "code",
   "execution_count": 15,
   "metadata": {},
   "outputs": [
    {
     "name": "stdout",
     "output_type": "stream",
     "text": [
      "Loaded model accuracy: 0.77\n"
     ]
    }
   ],
   "source": [
    "# Verify the loaded model\n",
    "loaded_predictions = loaded_model.predict(X_test)\n",
    "loaded_accuracy = accuracy_score(y_test, loaded_predictions)\n",
    "print(f'Loaded model accuracy: {loaded_accuracy:.2f}')"
   ]
  },
  {
   "cell_type": "code",
   "execution_count": 16,
   "metadata": {},
   "outputs": [
    {
     "data": {
      "image/png": "[encoded data removed]",
      "text/plain": [
       "<Figure size 432x288 with 1 Axes>"
      ]
     },
     "metadata": {
      "needs_background": "light"
     },
     "output_type": "display_data"
    }
   ],
   "source": [
    "# Plot feature importances\n",
    "importances = model.feature_importances_\n",
    "indices = np.argsort(importances)[::-1]\n",
    "feature_names = X.columns\n",
    "\n",
    "plt.figure()\n",
    "plt.title(\"Feature Importances\")\n",
    "plt.bar(range(X.shape[1]), importances[indices], align=\"center\")\n",
    "plt.xticks(range(X.shape[1]), feature_names[indices], rotation=90)\n",
    "plt.xlim([-1, X.shape[1]])\n",
    "plt.show()"
   ]
  },
  {
   "cell_type": "code",
   "execution_count": 18,
   "metadata": {},
   "outputs": [
    {
     "name": "stderr",
     "output_type": "stream",
     "text": [
      "/var/folders/_w/kl4xvqnd6_q9v746200yzqjw0000gn/T/ipykernel_37459/830069332.py:3: SettingWithCopyWarning: \n",
      "A value is trying to be set on a copy of a slice from a DataFrame.\n",
      "Try using .loc[row_indexer,col_indexer] = value instead\n",
      "\n",
      "See the caveats in the documentation: https://pandas.pydata.org/pandas-docs/stable/user_guide/indexing.html#returning-a-view-versus-a-copy\n",
      "  tuesday_data['Hour'] = tuesday_data['Datetime'].dt.hour\n"
     ]
    },
    {
     "data": {
      "image/png": "[encoded data removed]",
      "text/plain": [
       "<Figure size 1440x360 with 1 Axes>"
      ]
     },
     "metadata": {
      "needs_background": "light"
     },
     "output_type": "display_data"
    }
   ],
   "source": [
    "# Visualization\n",
    "tuesday_data = samples[samples['Datetime'].dt.dayofweek == 0]  # 0-6: Mon-Sun\n",
    "tuesday_data['Hour'] = tuesday_data['Datetime'].dt.hour\n",
    "hours = tuesday_data['Hour'].unique()\n",
    "away_status = [tuesday_data[tuesday_data['Hour'] == hour]['Away'].iloc[0] for hour in hours]\n",
    "\n",
    "plt.figure(figsize=(20, 5))\n",
    "plt.bar(hours, away_status, color='blue', alpha=0.7)\n",
    "plt.title('Monday Presence: Home (0) vs Away (1)')\n",
    "plt.xlabel('Hour of the Day')\n",
    "plt.ylabel('Presence')\n",
    "plt.xticks(hours, [f\"{hour}:00\" for hour in hours])\n",
    "plt.yticks([0, 1], ['Home', 'Away'])\n",
    "plt.grid(True, axis='y')\n",
    "plt.show()"
   ]
  }
 ],
 "metadata": {
  "kernelspec": {
   "display_name": "Python 3",
   "language": "python",
   "name": "python3"
  },
  "language_info": {
   "codemirror_mode": {
    "name": "ipython",
    "version": 3
   },
   "file_extension": ".py",
   "mimetype": "text/x-python",
   "name": "python",
   "nbconvert_exporter": "python",
   "pygments_lexer": "ipython3",
   "version": "3.9.0"
  }
 },
 "nbformat": 4,
 "nbformat_minor": 2
}
